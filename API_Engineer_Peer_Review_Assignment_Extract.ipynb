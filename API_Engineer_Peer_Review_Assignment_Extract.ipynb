{
 "cells": [
  {
   "cell_type": "markdown",
   "metadata": {},
   "source": [
    "<p style=\"text-align:center\">\n",
    "    <a href=\"https://skills.network/?utm_medium=Exinfluencer&utm_source=Exinfluencer&utm_content=000026UJ&utm_term=10006555&utm_id=NA-SkillsNetwork-Channel-SkillsNetworkCoursesIBMDeveloperSkillsNetworkPY0221ENSkillsNetwork899-2023-01-01\">\n",
    "    <img src=\"https://cf-courses-data.s3.us.cloud-object-storage.appdomain.cloud/assets/logos/SN_web_lightmode.png\" width=\"200\" alt=\"Skills Network Logo\"  />\n",
    "    </a>\n",
    "</p>\n"
   ]
  },
  {
   "cell_type": "markdown",
   "metadata": {},
   "source": [
    "# Peer Review Assignment - Data Engineer - Extract API Data\n"
   ]
  },
  {
   "cell_type": "markdown",
   "metadata": {},
   "source": [
    "Estimated time needed: **20** minutes\n"
   ]
  },
  {
   "cell_type": "markdown",
   "metadata": {},
   "source": [
    "## Objectives\n",
    "\n",
    "In this part you will:\n",
    "\n",
    "-   Collect exchange rate data using an API\n",
    "-   Store the data as a CSV\n"
   ]
  },
  {
   "cell_type": "markdown",
   "metadata": {},
   "source": [
    "For this lab, we are going to be using Python and several Python libraries. Some of these libraries might be installed in your lab environment or in SN Labs. Others may need to be installed by you. The cells below will install these libraries when executed.\n"
   ]
  },
  {
   "cell_type": "code",
   "execution_count": 18,
   "metadata": {
    "tags": []
   },
   "outputs": [],
   "source": [
    "#!mamba install pandas==1.3.3 -y\n",
    "#!mamba install requests==2.26.0 -y"
   ]
  },
  {
   "cell_type": "markdown",
   "metadata": {},
   "source": [
    "## Imports\n",
    "\n",
    "Import any additional libraries you may need here.\n"
   ]
  },
  {
   "cell_type": "code",
   "execution_count": 54,
   "metadata": {
    "tags": []
   },
   "outputs": [],
   "source": [
    "import requests\n",
    "import pandas as pd"
   ]
  },
  {
   "cell_type": "markdown",
   "metadata": {},
   "source": [
    "## Extract Data Using an API\n"
   ]
  },
  {
   "cell_type": "markdown",
   "metadata": {},
   "source": [
    "Using ExchangeRate-API we will extract currency exchange rate data. Use the below steps to get the access key and to get the data. \n",
    "1. Open the url : https://exchangeratesapi.io/ and click on **Get Free API Key**. \n",
    "2. Subscribe for Free plan and Sign-in with the Google Account. \n",
    "3. Once the account is created you will be redirected to https://apilayer.com website.\n",
    "2. Now, click on the **user icon** and click **Account** as shown below:\n",
    "\n",
    "<img src=\"https://cf-courses-data.s3.us.cloud-object-storage.appdomain.cloud/IBMDeveloperSkillsNetwork-PY0221EN-SkillsNetwork/labs/module%206/Final%20Assignment/Images/account.png\">\n",
    "\n",
    "3. Scroll down and you will get the API Key section. Copy the API key and use in the url in Question 1.\n"
   ]
  },
  {
   "cell_type": "markdown",
   "metadata": {},
   "source": [
    "### Call the API\n",
    "\n",
    " <b> Question 1</b> Using the `requests` library call the endpoint given above and save the text, remember the first few characters of the output: \n"
   ]
  },
  {
   "cell_type": "code",
   "execution_count": 55,
   "metadata": {
    "tags": []
   },
   "outputs": [
    {
     "name": "stdout",
     "output_type": "stream",
     "text": [
      "{\"success\":true,\"timestamp\":1693883823,\"base\":\"EUR\",\"date\":\"2023-09-05\",\"rates\":{\"AED\":3.960265,\"AFN\":79.20646,\"ALL\":108.035553,\"AMD\":416.558719,\"ANG\":1.945239,\"AOA\":889.545696,\"ARS\":377.400331,\"AUD\":1.678225,\"AWG\":1.940774,\"AZN\":1.83127,\"BAM\":1.95373,\"BBD\":2.179271,\"BDT\":118.674283,\"BGN\":1.954052,\"BHD\":0.40642,\"BIF\":3064.767558,\"BMD\":1.078208,\"BND\":1.460759,\"BOB\":7.458099,\"BRL\":5.323867,\"BSD\":1.079357,\"BTC\":4.2102145e-5,\"BTN\":89.241862,\"BWP\":14.654476,\"BYN\":2.724926,\"BYR\":21132.872939,\"BZD\":2.175575,\"CAD\":1.468185,\"CDF\":2679.345963,\"CHF\":0.954914,\"CLF\":0.033519,\"CLP\":924.896983,\"CNY\":7.861432,\"COP\":4373.297106,\"CRC\":579.594072,\"CUC\":1.078208,\"CUP\":28.572507,\"CVE\":110.148315,\"CZK\":24.140535,\"DJF\":192.174638,\"DKK\":7.453869,\"DOP\":61.455752,\"DZD\":147.515017,\"EGP\":33.316623,\"ERN\":16.173117,\"ETB\":59.644716,\"EUR\":1,\"FJD\":2.442786,\"FKP\":0.856233,\"GBP\":0.854749,\"GEL\":2.841044,\"GGP\":0.856233,\"GHS\":12.303966,\"GIP\":0.856233,\"GMD\":65.609205,\"GNF\":9268.224707,\"GTQ\":8.499996,\"GYD\":225.990597,\"HKD\":8.450103,\"HNL\":26.579843,\"HRK\":7.421089,\"HTG\":146.185816,\"HUF\":382.143781,\"IDR\":16444.825411,\"ILS\":4.112231,\"IMP\":0.856233,\"INR\":89.252857,\"IQD\":1413.502609,\"IRR\":45581.234892,\"ISK\":143.90889,\"JEP\":0.856233,\"JMD\":166.553562,\"JOD\":0.763475,\"JPY\":158.227016,\"KES\":156.199668,\"KGS\":95.156795,\"KHR\":4503.250375,\"KMF\":490.584925,\"KPW\":970.382242,\"KRW\":1429.935358,\"KWD\":0.33253,\"KYD\":0.899447,\"KZT\":494.935691,\"LAK\":21286.450247,\"LBP\":16222.390076,\"LKR\":345.394108,\"LRD\":200.546485,\"LSL\":19.957564,\"LTL\":3.183667,\"LVL\":0.652197,\"LYD\":5.198445,\"MAD\":10.979569,\"MDL\":19.265413,\"MGA\":4867.843261,\"MKD\":61.496053,\"MMK\":2266.598884,\"MNT\":3745.864999,\"MOP\":8.710273,\"MRO\":384.92,\"MUR\":50.26964,\"MVR\":16.600707,\"MWK\":1151.1805,\"MXN\":18.558253,\"MYR\":5.024178,\"MZN\":68.19659,\"NAD\":19.95717,\"NGN\":817.033892,\"NIO\":39.488351,\"NOK\":11.494337,\"NPR\":142.788724,\"NZD\":1.822759,\"OMR\":0.415112,\"PAB\":1.079357,\"PEN\":3.995667,\"PGK\":3.950833,\"PHP\":61.248628,\"PKR\":330.680195,\"PLN\":4.473704,\"PYG\":7848.612797,\"QAR\":3.925796,\"RON\":4.945413,\"RSD\":117.27449,\"RUB\":103.777607,\"RWF\":1288.734782,\"SAR\":4.044373,\"SBD\":9.024081,\"SCR\":14.382299,\"SDG\":647.737497,\"SEK\":11.894577,\"SGD\":1.463974,\"SHP\":1.311909,\"SLE\":24.022554,\"SLL\":21294.603684,\"SOS\":612.960871,\"SSP\":648.543238,\"SRD\":41.615046,\"STD\":22316.724629,\"SYP\":14018.442855,\"SZL\":20.394395,\"THB\":38.185863,\"TJS\":11.85644,\"TMT\":3.784509,\"TND\":3.334357,\"TOP\":2.573787,\"TRY\":28.868477,\"TTD\":7.314252,\"TWD\":34.422328,\"TZS\":2703.210391,\"UAH\":39.861373,\"UGX\":4014.746987,\"USD\":1.078208,\"UYU\":40.587004,\"UZS\":13079.144638,\"VEF\":3528463.781252,\"VES\":34.65179,\"VND\":25968.634935,\"VUV\":130.389573,\"WST\":2.949664,\"XAF\":655.262849,\"XAG\":0.045197,\"XAU\":0.000557,\"XCD\":2.913911,\"XDR\":0.81154,\"XOF\":655.256778,\"XPF\":119.379861,\"YER\":269.929485,\"ZAR\":20.674263,\"ZMK\":9705.162192,\"ZMW\":21.937557,\"ZWL\":347.182473}}\n"
     ]
    }
   ],
   "source": [
    "# Write your code here\n",
    "url = \"http://api.exchangeratesapi.io/v1/latest?base=EUR&access_key=6504fc366b9bb54f9653b613e197c9f7\"  #Make sure to change ******* to your API key.\n",
    "html_data = requests.get(url).text\n",
    "\n",
    "print(html_data)"
   ]
  },
  {
   "cell_type": "markdown",
   "metadata": {},
   "source": [
    "### Save as DataFrame\n",
    "\n",
    " <b> Question 2</b>  Using the data gathered turn it into a `pandas` dataframe. The dataframe should have the Currency as the index and `Rate` as their columns. Make sure to drop unnecessary columns.\n"
   ]
  },
  {
   "cell_type": "code",
   "execution_count": 75,
   "metadata": {
    "tags": []
   },
   "outputs": [],
   "source": [
    "# Turn the data into a dataframe\n",
    "df = pd.DataFrame(json.loads(html_data)).reset_index()\n",
    "df.rename(columns = {'index':'Currency'}, inplace = True)\n",
    "new_data = df.set_index('Currency')"
   ]
  },
  {
   "cell_type": "code",
   "execution_count": 79,
   "metadata": {
    "tags": []
   },
   "outputs": [
    {
     "data": {
      "text/html": [
       "<div>\n",
       "<style scoped>\n",
       "    .dataframe tbody tr th:only-of-type {\n",
       "        vertical-align: middle;\n",
       "    }\n",
       "\n",
       "    .dataframe tbody tr th {\n",
       "        vertical-align: top;\n",
       "    }\n",
       "\n",
       "    .dataframe thead th {\n",
       "        text-align: right;\n",
       "    }\n",
       "</style>\n",
       "<table border=\"1\" class=\"dataframe\">\n",
       "  <thead>\n",
       "    <tr style=\"text-align: right;\">\n",
       "      <th></th>\n",
       "      <th>rates</th>\n",
       "    </tr>\n",
       "    <tr>\n",
       "      <th>Currency</th>\n",
       "      <th></th>\n",
       "    </tr>\n",
       "  </thead>\n",
       "  <tbody>\n",
       "    <tr>\n",
       "      <th>AED</th>\n",
       "      <td>3.960265</td>\n",
       "    </tr>\n",
       "    <tr>\n",
       "      <th>AFN</th>\n",
       "      <td>79.206460</td>\n",
       "    </tr>\n",
       "    <tr>\n",
       "      <th>ALL</th>\n",
       "      <td>108.035553</td>\n",
       "    </tr>\n",
       "    <tr>\n",
       "      <th>AMD</th>\n",
       "      <td>416.558719</td>\n",
       "    </tr>\n",
       "    <tr>\n",
       "      <th>ANG</th>\n",
       "      <td>1.945239</td>\n",
       "    </tr>\n",
       "    <tr>\n",
       "      <th>...</th>\n",
       "      <td>...</td>\n",
       "    </tr>\n",
       "    <tr>\n",
       "      <th>YER</th>\n",
       "      <td>269.929485</td>\n",
       "    </tr>\n",
       "    <tr>\n",
       "      <th>ZAR</th>\n",
       "      <td>20.674263</td>\n",
       "    </tr>\n",
       "    <tr>\n",
       "      <th>ZMK</th>\n",
       "      <td>9705.162192</td>\n",
       "    </tr>\n",
       "    <tr>\n",
       "      <th>ZMW</th>\n",
       "      <td>21.937557</td>\n",
       "    </tr>\n",
       "    <tr>\n",
       "      <th>ZWL</th>\n",
       "      <td>347.182473</td>\n",
       "    </tr>\n",
       "  </tbody>\n",
       "</table>\n",
       "<p>170 rows × 1 columns</p>\n",
       "</div>"
      ],
      "text/plain": [
       "                rates\n",
       "Currency             \n",
       "AED          3.960265\n",
       "AFN         79.206460\n",
       "ALL        108.035553\n",
       "AMD        416.558719\n",
       "ANG          1.945239\n",
       "...               ...\n",
       "YER        269.929485\n",
       "ZAR         20.674263\n",
       "ZMK       9705.162192\n",
       "ZMW         21.937557\n",
       "ZWL        347.182473\n",
       "\n",
       "[170 rows x 1 columns]"
      ]
     },
     "execution_count": 79,
     "metadata": {},
     "output_type": "execute_result"
    }
   ],
   "source": [
    "# Drop unnescessary columns\n",
    "\n",
    "new_data_csv = new_data.drop(['success','timestamp','base','date'], axis=1)\n",
    "new_data_csv"
   ]
  },
  {
   "cell_type": "markdown",
   "metadata": {},
   "source": [
    "### Load the Data\n",
    "\n",
    "Using the dataframe save it as a CSV names `exchange_rates_1.csv`.\n"
   ]
  },
  {
   "cell_type": "code",
   "execution_count": 80,
   "metadata": {
    "tags": []
   },
   "outputs": [],
   "source": [
    "# Save the Dataframe\n",
    "new_data_csv.to_csv(\"exchange_rates_1.csv\")\n"
   ]
  },
  {
   "cell_type": "markdown",
   "metadata": {},
   "source": [
    "Your CSV should be in this format with more currencies\n",
    "\n",
    "| | Rates |\n",
    "| ------- | ------- |\n",
    "|  AED| 4.398618    |\n",
    "|  AFN| 92.917693   |  \n",
    "|  ALL| 123.099093  |\n",
    "|  AMD| 621.935674  |\n",
    "|  ANG| 2.149648    | \n"
   ]
  },
  {
   "cell_type": "markdown",
   "metadata": {},
   "source": [
    "## Authors\n"
   ]
  },
  {
   "cell_type": "markdown",
   "metadata": {},
   "source": [
    "Ramesh Sannareddy, Joseph Santarcangelo and Azim Hirjani\n"
   ]
  },
  {
   "cell_type": "markdown",
   "metadata": {},
   "source": [
    "### Other Contributors\n"
   ]
  },
  {
   "cell_type": "markdown",
   "metadata": {},
   "source": [
    "Rav Ahuja\n"
   ]
  },
  {
   "cell_type": "markdown",
   "metadata": {},
   "source": [
    "## Change Log\n"
   ]
  },
  {
   "cell_type": "markdown",
   "metadata": {},
   "source": [
    "| Date (YYYY-MM-DD) | Version | Changed By        | Change Description                 |\n",
    "| ----------------- | ------- | ----------------- | ---------------------------------- |\n",
    "| 2022-05-06        | 0.3     | Malika            | Updated instructions to get the API and the url|\n",
    "| 2021-04-15        | 0.2     | Malika            | Updated the lab from USD to EUR    |\n",
    "| 2020-11-25        | 0.1     | Ramesh Sannareddy | Created initial version of the lab |\n"
   ]
  },
  {
   "cell_type": "markdown",
   "metadata": {},
   "source": [
    " Copyright © 2020 IBM Corporation. This notebook and its source code are released under the terms of the [MIT License](https://cognitiveclass.ai/mit-license?utm_medium=Exinfluencer&utm_source=Exinfluencer&utm_content=000026UJ&utm_term=10006555&utm_id=NA-SkillsNetwork-Channel-SkillsNetworkCoursesIBMDeveloperSkillsNetworkPY0221ENSkillsNetwork899-2023-01-01&cm_mmc=Email_Newsletter-_-Developer_Ed%2BTech-_-WW_WW-_-SkillsNetwork-Courses-IBM-DA0321EN-SkillsNetwork-21426264&cm_mmca1=000026UJ&cm_mmca2=10006555&cm_mmca3=M12345678&cvosrc=email.Newsletter.M12345678&cvo_campaign=000026UJ).\n"
   ]
  }
 ],
 "metadata": {
  "kernelspec": {
   "display_name": "Python",
   "language": "python",
   "name": "conda-env-python-py"
  },
  "language_info": {
   "codemirror_mode": {
    "name": "ipython",
    "version": 3
   },
   "file_extension": ".py",
   "mimetype": "text/x-python",
   "name": "python",
   "nbconvert_exporter": "python",
   "pygments_lexer": "ipython3",
   "version": "3.7.12"
  }
 },
 "nbformat": 4,
 "nbformat_minor": 4
}
